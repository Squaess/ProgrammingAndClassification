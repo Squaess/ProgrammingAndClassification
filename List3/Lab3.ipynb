{
 "cells": [
  {
   "cell_type": "markdown",
   "metadata": {},
   "source": [
    "## List 3"
   ]
  },
  {
   "cell_type": "markdown",
   "metadata": {},
   "source": [
    "**21**\n",
    "\n",
    "For a given bitstring __b__ list all bitstrings **b’**, such that the Hamming distance between `b` and `b’` is equal 1."
   ]
  },
  {
   "cell_type": "code",
   "execution_count": 1,
   "metadata": {},
   "outputs": [],
   "source": [
    "def bitstring_hamming_distance(b):\n",
    "    n = len(bin(b)) - 2\n",
    "    pattern = 2**(n-1)\n",
    "    while pattern > 0:\n",
    "        print(format(b ^ pattern, f\"0{n}b\"))\n",
    "        pattern = pattern // 2"
   ]
  },
  {
   "cell_type": "code",
   "execution_count": 2,
   "metadata": {},
   "outputs": [
    {
     "name": "stdout",
     "output_type": "stream",
     "text": [
      "00101\n",
      "11101\n",
      "10001\n",
      "10111\n",
      "10100\n"
     ]
    }
   ],
   "source": [
    "bitstring = 0b10101\n",
    "bitstring_hamming_distance(bitstring)"
   ]
  },
  {
   "cell_type": "markdown",
   "metadata": {},
   "source": [
    "**22**\n",
    "\n",
    "Construct a function that returns a Jaccard similarity for two sets. Beware that this function needs to check if at least one of the sets is nonempty."
   ]
  },
  {
   "cell_type": "code",
   "execution_count": 3,
   "metadata": {},
   "outputs": [],
   "source": [
    "def jaccard_sim(s1, s2):\n",
    "    assert s1 or s2 , \"One of the set must contain elements\"\n",
    "    return (len(set(s1) & set(s2)) / len(set(s1) | set(s2)) )"
   ]
  },
  {
   "cell_type": "code",
   "execution_count": 4,
   "metadata": {},
   "outputs": [
    {
     "data": {
      "text/plain": [
       "1.0"
      ]
     },
     "execution_count": 4,
     "metadata": {},
     "output_type": "execute_result"
    }
   ],
   "source": [
    "jaccard_sim({2,5}, {5,2})"
   ]
  },
  {
   "cell_type": "markdown",
   "metadata": {},
   "source": [
    "**23**\n",
    "\n",
    "Construct a function that computes Jaccard similarity for two strings treated as bags of words."
   ]
  },
  {
   "cell_type": "code",
   "execution_count": 5,
   "metadata": {},
   "outputs": [],
   "source": [
    "from functools import reduce\n",
    "def jacc2(s1, s2):\n",
    "    splited1 = [word.lower() for word in s1.split(\" \")]\n",
    "    splited2 = [word.lower() for word in s2.split(\" \")]\n",
    "    freq1 = {i:splited1.count(i) for i in set(splited1)}\n",
    "    freq2 = {i:splited2.count(i) for i in set(splited2)}\n",
    "    inter = 0\n",
    "    for i in set(splited1) & set(splited2):\n",
    "        inter += min(freq1[i], freq2[i])\n",
    "    \n",
    "    print(inter, set(splited1) & set(splited2))\n",
    "    print(set(splited1) | set(splited2))\n",
    "    return inter/(len(splited1) + len(splited2))"
   ]
  },
  {
   "cell_type": "code",
   "execution_count": 6,
   "metadata": {},
   "outputs": [
    {
     "name": "stdout",
     "output_type": "stream",
     "text": [
      "3 {'pana', 'witam', 'michała.'}\n",
      "{'michała.', 'pana', 'i', 'witolda', 'witam'}\n"
     ]
    },
    {
     "data": {
      "text/plain": [
       "0.3333333333333333"
      ]
     },
     "execution_count": 6,
     "metadata": {},
     "output_type": "execute_result"
    }
   ],
   "source": [
    "jacc2(\"Witam Pana Michała.\", \"Witam PaNa witolda i Pana Michała.\")"
   ]
  },
  {
   "cell_type": "markdown",
   "metadata": {},
   "source": [
    "**24**\n",
    "\n",
    "(use NLTK) List all words in `text1` with edit distance from the word `dog` smaller than 4. Hint: you can safely reject all long words without computations (why?)"
   ]
  },
  {
   "cell_type": "code",
   "execution_count": 3,
   "metadata": {},
   "outputs": [
    {
     "name": "stdout",
     "output_type": "stream",
     "text": [
      "showing info https://raw.githubusercontent.com/nltk/nltk_data/gh-pages/index.xml\n"
     ]
    },
    {
     "data": {
      "text/plain": [
       "True"
      ]
     },
     "execution_count": 3,
     "metadata": {},
     "output_type": "execute_result"
    }
   ],
   "source": [
    "import nltk\n",
    "nltk.download()"
   ]
  },
  {
   "cell_type": "code",
   "execution_count": 2,
   "metadata": {},
   "outputs": [
    {
     "name": "stdout",
     "output_type": "stream",
     "text": [
      "*** Introductory Examples for the NLTK Book ***\n",
      "Loading text1, ..., text9 and sent1, ..., sent9\n",
      "Type the name of the text or sentence to view it.\n",
      "Type: 'texts()' or 'sents()' to list the materials.\n",
      "text1: Moby Dick by Herman Melville 1851\n",
      "text2: Sense and Sensibility by Jane Austen 1811\n",
      "text3: The Book of Genesis\n",
      "text4: Inaugural Address Corpus\n",
      "text5: Chat Corpus\n",
      "text6: Monty Python and the Holy Grail\n",
      "text7: Wall Street Journal\n",
      "text8: Personals Corpus\n",
      "text9: The Man Who Was Thursday by G . K . Chesterton 1908\n"
     ]
    }
   ],
   "source": [
    "from nltk.book import *\n",
    "from nltk.corpus import stopwords"
   ]
  },
  {
   "cell_type": "code",
   "execution_count": 6,
   "metadata": {},
   "outputs": [
    {
     "name": "stdout",
     "output_type": "stream",
     "text": [
      "69100\n",
      "148344\n"
     ]
    }
   ],
   "source": [
    "stop_words = set(stopwords.words('english'))\n",
    "print(\n",
    "    len(\n",
    "        [token for token in list(filter(lambda x: len(x) < 7 and x not in stop_words, text1)) \n",
    "         if nltk.edit_distance(token, \"dog\") < 4]\n",
    "    )\n",
    ")\n",
    "print(\n",
    "    len(\n",
    "        [token for token in list(filter(lambda x: len(x) < 7, text1)) \n",
    "         if nltk.edit_distance(token, \"dog\") < 4]\n",
    "    )\n",
    ")"
   ]
  },
  {
   "cell_type": "markdown",
   "metadata": {},
   "source": [
    "**25**\n",
    "\n",
    "(use NLTK) Let `text1-text9` be bags of words. Compute similarity between all pairs of texts."
   ]
  },
  {
   "cell_type": "code",
   "execution_count": 7,
   "metadata": {},
   "outputs": [
    {
     "name": "stdout",
     "output_type": "stream",
     "text": [
      "Moby Dick by Herman Melville 1851 - Sense and Sensibility by Jane Austen 1811: 0.7873816443236149\n",
      "Moby Dick by Herman Melville 1851 - The Book of Genesis: 0.918655312407169\n",
      "Moby Dick by Herman Melville 1851 - Inaugural Address Corpus: 0.7596932621058073\n",
      "Moby Dick by Herman Melville 1851 - Chat Corpus: 0.9021990993748087\n",
      "Moby Dick by Herman Melville 1851 - Monty Python and the Holy Grail: 0.9335110395815521\n",
      "Moby Dick by Herman Melville 1851 - Wall Street Journal: 0.8320154434421057\n",
      "Moby Dick by Herman Melville 1851 - Personals Corpus: 0.9724919916611583\n",
      "Moby Dick by Herman Melville 1851 - The Man Who Was Thursday by G . K . Chesterton 1908: 0.782489869003864\n",
      "Sense and Sensibility by Jane Austen 1811 - The Book of Genesis: 0.8690246257846451\n",
      "Sense and Sensibility by Jane Austen 1811 - Inaugural Address Corpus: 0.7114655716993051\n",
      "Sense and Sensibility by Jane Austen 1811 - Chat Corpus: 0.8689815643458028\n",
      "Sense and Sensibility by Jane Austen 1811 - Monty Python and the Holy Grail: 0.8833908707326429\n",
      "Sense and Sensibility by Jane Austen 1811 - Wall Street Journal: 0.8286454478164322\n",
      "Sense and Sensibility by Jane Austen 1811 - Personals Corpus: 0.9457617879531207\n",
      "Sense and Sensibility by Jane Austen 1811 - The Man Who Was Thursday by G . K . Chesterton 1908: 0.7293468960927845\n",
      "The Book of Genesis - Inaugural Address Corpus: 0.8972541277817659\n",
      "The Book of Genesis - Chat Corpus: 0.9139649299861233\n",
      "The Book of Genesis - Monty Python and the Holy Grail: 0.8754482428878795\n",
      "The Book of Genesis - Wall Street Journal: 0.935235926268593\n",
      "The Book of Genesis - Personals Corpus: 0.9540067720090294\n",
      "The Book of Genesis - The Man Who Was Thursday by G . K . Chesterton 1908: 0.8747891058086286\n",
      "Inaugural Address Corpus - Chat Corpus: 0.8969086783891095\n",
      "Inaugural Address Corpus - Monty Python and the Holy Grail: 0.9118498459239892\n",
      "Inaugural Address Corpus - Wall Street Journal: 0.7770025118615685\n",
      "Inaugural Address Corpus - Personals Corpus: 0.9641294838145232\n",
      "Inaugural Address Corpus - The Man Who Was Thursday by G . K . Chesterton 1908: 0.7698466651559785\n",
      "Chat Corpus - Monty Python and the Holy Grail: 0.8875401144132831\n",
      "Chat Corpus - Wall Street Journal: 0.8991545893719807\n",
      "Chat Corpus - Personals Corpus: 0.9377188975178925\n",
      "Chat Corpus - The Man Who Was Thursday by G . K . Chesterton 1908: 0.8641196612002162\n",
      "Monty Python and the Holy Grail - Wall Street Journal: 0.9341517857142857\n",
      "Monty Python and the Holy Grail - Personals Corpus: 0.9307103064066853\n",
      "Monty Python and the Holy Grail - The Man Who Was Thursday by G . K . Chesterton 1908: 0.8733652725624758\n",
      "Wall Street Journal - Personals Corpus: 0.967222006974041\n",
      "Wall Street Journal - The Man Who Was Thursday by G . K . Chesterton 1908: 0.8426835968500092\n",
      "Personals Corpus - The Man Who Was Thursday by G . K . Chesterton 1908: 0.9505516959542296\n"
     ]
    }
   ],
   "source": [
    "from itertools import combinations\n",
    "\n",
    "for t1, t2 in combinations([text1, text2, text3, text4, text5, text6, text7, text8, text9], 2):\n",
    "    print(f\"{t1.name} - {t2.name}: {nltk.jaccard_distance(set(filter(lambda x: x not in stop_words,t1)), set(filter(lambda x: x not in stop_words, t2)))}\")\n",
    "    "
   ]
  },
  {
   "cell_type": "markdown",
   "metadata": {},
   "source": [
    "**26**\n",
    "\n",
    "(use NLTK) Let us consider a metric space $(S, d)$, where $S$ is the set of words from `text1` and $d$ is the Hamming distance. Find diameter of $(S, d)$.\n",
    "\n",
    "A metric space $M$ is called bounded if there exists some number $r$, such that $d(x,y) ≤ r$ for all $x$ and $y$ in $M$. The smallest possible such $r$ is called the diameter of $M$."
   ]
  },
  {
   "cell_type": "code",
   "execution_count": 11,
   "metadata": {},
   "outputs": [],
   "source": [
    "from collections import defaultdict\n",
    "\n",
    "def find_diameter(text):\n",
    "    d = defaultdict(list)\n",
    "    for i in set([t.lower() for t in text]):\n",
    "        d[len(i)].append(i)\n",
    "\n",
    "    d = sorted(d.items(), reverse=True)\n",
    "\n",
    "    r = (0, \"\", \"\")\n",
    "    control = False\n",
    "    for i in range(len(d)):\n",
    "        word_length = d[i][0]\n",
    "        value = d[i][1]\n",
    "        for s1, s2 in combinations(value,2):\n",
    "            dist = sum([ex != ey for ex, ey in zip(s1, s2)])\n",
    "            r = (dist, s1, s2) if dist > r[0] else r\n",
    "        if i+1 < len(d) and r[0] >= d[i+1][0]:\n",
    "            break\n",
    "            \n",
    "    return r"
   ]
  },
  {
   "cell_type": "code",
   "execution_count": 12,
   "metadata": {},
   "outputs": [
    {
     "data": {
      "text/plain": [
       "[(17, 'preternaturalness', 'cannibalistically'),\n",
       " (16, 'disqualifications', 'companionableness'),\n",
       " (14, 'interpretations', 'zaphnathpaaneah'),\n",
       " (17, 'antiphilosophists', 'misrepresentation'),\n",
       " (31, 'wooooooooooooohoooooooooooooooo', ')))))))))))))))))))))))))))))))')]"
      ]
     },
     "execution_count": 12,
     "metadata": {},
     "output_type": "execute_result"
    }
   ],
   "source": [
    "list(map(find_diameter, [text1, text2, text3, text4, text5]))"
   ]
  },
  {
   "cell_type": "markdown",
   "metadata": {},
   "source": [
    "**27**\n",
    "\n",
    "(use NLTK) Construct a dictionary that assigns each pair of consecutive words in `text1` the Jaccard similarity between them."
   ]
  },
  {
   "cell_type": "code",
   "execution_count": 13,
   "metadata": {},
   "outputs": [
    {
     "data": {
      "text/plain": [
       "[('[', 'Moby'),\n",
       " ('Moby', 'Dick'),\n",
       " ('Dick', 'by'),\n",
       " ('by', 'Herman'),\n",
       " ('Herman', 'Melville')]"
      ]
     },
     "execution_count": 13,
     "metadata": {},
     "output_type": "execute_result"
    }
   ],
   "source": [
    "zad27 = {(t1,t2):nltk.jaccard_distance(set(t1), set(t2)) for t1, t2 in zip(text1, text1[1:])}\n",
    "list(zad27)[:5]"
   ]
  },
  {
   "cell_type": "markdown",
   "metadata": {},
   "source": [
    "**28**\n",
    "\n",
    "(use NLTK). For two words $v$ and $w$, let `relative edit distance` be the Levensthein distance between $v$ and $w$ divided by the sum of lengths $v$ and $w$. Find two different words in `text2` with minimal relative edit distance"
   ]
  },
  {
   "cell_type": "code",
   "execution_count": 23,
   "metadata": {},
   "outputs": [
    {
     "name": "stdout",
     "output_type": "stream",
     "text": [
      "6268\n"
     ]
    }
   ],
   "source": [
    "def relative_edit(a, b):\n",
    "    return nltk.edit_distance(a, b) / (len(a) + len(b))\n",
    "\n",
    "d = set([i.lower() for i in text2 if i.lower() not in stop_words])\n",
    "print(len(d))\n",
    "\n",
    "def min_rel():\n",
    "    for s1, s2 in combinations(d, 2):\n",
    "        dist = relative_edit(s1, s2)\n",
    "        yield dist"
   ]
  },
  {
   "cell_type": "markdown",
   "metadata": {},
   "source": [
    "**29**\n",
    "\n",
    "For a given bitstring **b** and a natural number *r* list all bitstrings __b’__, such that theHamming distance between `b` and `b’` is equal _n_."
   ]
  },
  {
   "cell_type": "markdown",
   "metadata": {},
   "source": [
    "**30**\n",
    "\n",
    "Construct a function that for a given string and a natural number _k_ returns a **set** of all its *k*-shingles"
   ]
  }
 ],
 "metadata": {
  "kernelspec": {
   "display_name": "Python 3",
   "language": "python",
   "name": "python3"
  },
  "language_info": {
   "codemirror_mode": {
    "name": "ipython",
    "version": 3
   },
   "file_extension": ".py",
   "mimetype": "text/x-python",
   "name": "python",
   "nbconvert_exporter": "python",
   "pygments_lexer": "ipython3",
   "version": "3.7.0"
  }
 },
 "nbformat": 4,
 "nbformat_minor": 2
}
