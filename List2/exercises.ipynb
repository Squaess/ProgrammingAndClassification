{
 "cells": [
  {
   "cell_type": "markdown",
   "metadata": {},
   "source": [
    "## 11. From a given list of integers remove all negative numbers."
   ]
  },
  {
   "cell_type": "code",
   "execution_count": 8,
   "metadata": {},
   "outputs": [],
   "source": [
    "def remove_negative(l):\n",
    "    return list(filter(lambda x: x >= 0, l))"
   ]
  },
  {
   "cell_type": "code",
   "execution_count": 10,
   "metadata": {},
   "outputs": [
    {
     "name": "stdout",
     "output_type": "stream",
     "text": [
      "[12, 1000, 0]\n"
     ]
    }
   ],
   "source": [
    "print(remove_negative([-2, 12, 1000, 0, -123]))"
   ]
  },
  {
   "cell_type": "markdown",
   "metadata": {},
   "source": [
    "## 12. From a list of strings remove all strings longer than"
   ]
  },
  {
   "cell_type": "code",
   "execution_count": 11,
   "metadata": {},
   "outputs": [],
   "source": [
    "def remove_longer(args, treshold=5):\n",
    "    return list(filter(lambda x: len(x) <= treshold, args))\n",
    "    "
   ]
  },
  {
   "cell_type": "code",
   "execution_count": 12,
   "metadata": {},
   "outputs": [
    {
     "name": "stdout",
     "output_type": "stream",
     "text": [
      "['1234', 'asd']\n"
     ]
    }
   ],
   "source": [
    "print(remove_longer([\"1234\", \"asd\", \"1234567\", \"a\"*12]))"
   ]
  },
  {
   "cell_type": "markdown",
   "metadata": {},
   "source": [
    "## 13. Construct a function that returns a string of maximal length from a set of strings. Note that the the maximal string does not have to be unique."
   ]
  },
  {
   "cell_type": "code",
   "execution_count": 26,
   "metadata": {},
   "outputs": [],
   "source": [
    "def max_stat(some_set):\n",
    "    max_length = max(map(len, some_set))\n",
    "    return list(filter(lambda x: len(x) == max_length, some_set))"
   ]
  },
  {
   "cell_type": "code",
   "execution_count": 27,
   "metadata": {},
   "outputs": [
    {
     "data": {
      "text/plain": [
       "['cccccccccccccccccccccccccccccccccccccccccccccccccccccccccccccccccccccccccccccccccccccccccccccccccccc',\n",
       " 'bbbbbbbbbbbbbbbbbbbbbbbbbbbbbbbbbbbbbbbbbbbbbbbbbbbbbbbbbbbbbbbbbbbbbbbbbbbbbbbbbbbbbbbbbbbbbbbbbbbb']"
      ]
     },
     "execution_count": 27,
     "metadata": {},
     "output_type": "execute_result"
    }
   ],
   "source": [
    "max_stat({\"a\", \"a\"*2, \"b\"*100, \"c\"*100})"
   ]
  },
  {
   "cell_type": "markdown",
   "metadata": {},
   "source": [
    "## 14. Construct a function that constructs a list that keeps alternately consecutive elements from two argument lists of equal length. For example, for `a=[a1,a2,a3]` and `a=[b1,b2,b3]` the correct output is `[a1,b1,a2,b2,a3,b3]`."
   ]
  },
  {
   "cell_type": "code",
   "execution_count": 56,
   "metadata": {},
   "outputs": [],
   "source": [
    "def consecutice(l1, l2):\n",
    "    ret_list = []\n",
    "    for i in range(min(len(l1), len(l2))):\n",
    "        ret_list.extend([l1[i], l2[i]])\n",
    "    ll = max(l1, l2, key=len)\n",
    "    ret_list.extend(ll[i+1:])\n",
    "    return ret_list"
   ]
  },
  {
   "cell_type": "code",
   "execution_count": 60,
   "metadata": {},
   "outputs": [
    {
     "name": "stdout",
     "output_type": "stream",
     "text": [
      "[0, 1, 2, 3, 4, 5, 6, 7, 8, 9, 10, 12]\n"
     ]
    }
   ],
   "source": [
    "print(consecutice([i for i in range(14) if i%2 == 0], [i for i in range(10) if i%2 != 0]))"
   ]
  },
  {
   "cell_type": "markdown",
   "metadata": {},
   "source": [
    "## 15. A list contains both integers and strings. Construct a function that sorts given list in such a way that at the beginning of the resulting list one gets strings in alphabetical order followed by integers in an increasing order."
   ]
  },
  {
   "cell_type": "code",
   "execution_count": 78,
   "metadata": {},
   "outputs": [],
   "source": [
    "def better_sort(x):\n",
    "    strings = sorted([i for i in x if isinstance(i, str)])\n",
    "    ints = sorted([i for i in x if isinstance(i, int)])\n",
    "    return strings + ints\n",
    "    "
   ]
  },
  {
   "cell_type": "code",
   "execution_count": 79,
   "metadata": {},
   "outputs": [
    {
     "name": "stdout",
     "output_type": "stream",
     "text": [
      "['a', 'b', 's12kzmna', 'zzzzz', -1, 1, 2, 123]\n"
     ]
    }
   ],
   "source": [
    "a = [1, 2,\"a\", \"zzzzz\", \"s12kzmna\", -1, 123, \"b\"]\n",
    "print(better_sort(a))"
   ]
  },
  {
   "cell_type": "markdown",
   "metadata": {},
   "source": [
    "## 16. Construct a dictionary that assigns each user (represented as a string) his address (string). Sort and list this dictionary by the addresses. Use lambda function."
   ]
  },
  {
   "cell_type": "code",
   "execution_count": 82,
   "metadata": {},
   "outputs": [
    {
     "data": {
      "text/plain": [
       "['Tomek', 'Władysław', 'Kazimierz', 'Jan']"
      ]
     },
     "execution_count": 82,
     "metadata": {},
     "output_type": "execute_result"
    }
   ],
   "source": [
    "user_addr = {\n",
    "    \"Jan\": \"Wesoła 12\",\n",
    "    \"Tomek\": \"Piękna 6\",\n",
    "    \"Kazimierz\": \"Sliczna 100\",\n",
    "    \"Władysław\": \"Ponura 666\"\n",
    "}\n",
    "\n",
    "sorted(user_addr, key=lambda x: user_addr[x])"
   ]
  },
  {
   "cell_type": "markdown",
   "metadata": {},
   "source": [
    "## 17. Import all books from nltk.book. Check how many times the word knight appears in text6 (Monty Python) and text7 (Wall Street Journal)"
   ]
  },
  {
   "cell_type": "code",
   "execution_count": 2,
   "metadata": {},
   "outputs": [
    {
     "name": "stdout",
     "output_type": "stream",
     "text": [
      "showing info https://raw.githubusercontent.com/nltk/nltk_data/gh-pages/index.xml\n"
     ]
    },
    {
     "data": {
      "text/plain": [
       "True"
      ]
     },
     "execution_count": 2,
     "metadata": {},
     "output_type": "execute_result"
    }
   ],
   "source": [
    "import nltk\n",
    "nltk.download()"
   ]
  },
  {
   "cell_type": "code",
   "execution_count": 3,
   "metadata": {},
   "outputs": [
    {
     "name": "stdout",
     "output_type": "stream",
     "text": [
      "*** Introductory Examples for the NLTK Book ***\n",
      "Loading text1, ..., text9 and sent1, ..., sent9\n",
      "Type the name of the text or sentence to view it.\n",
      "Type: 'texts()' or 'sents()' to list the materials.\n",
      "text1: Moby Dick by Herman Melville 1851\n",
      "text2: Sense and Sensibility by Jane Austen 1811\n",
      "text3: The Book of Genesis\n",
      "text4: Inaugural Address Corpus\n",
      "text5: Chat Corpus\n",
      "text6: Monty Python and the Holy Grail\n",
      "text7: Wall Street Journal\n",
      "text8: Personals Corpus\n",
      "text9: The Man Who Was Thursday by G . K . Chesterton 1908\n"
     ]
    }
   ],
   "source": [
    "from nltk.book import *"
   ]
  },
  {
   "cell_type": "code",
   "execution_count": 38,
   "metadata": {},
   "outputs": [
    {
     "name": "stdout",
     "output_type": "stream",
     "text": [
      "84\n",
      "5\n",
      "1\n",
      "1\n"
     ]
    }
   ],
   "source": [
    "# count method doesn't support lowet and upper cases\n",
    "print(len([x for x in text6 if x.lower() == \"knight\"]))\n",
    "print(text6.count(\"knight\"))\n",
    "\n",
    "print(len([x for x in text7 if x.lower() == \"knight\"]))\n",
    "print(text7.count(\"knight\"))"
   ]
  },
  {
   "cell_type": "markdown",
   "metadata": {},
   "source": [
    "## 18. Import all books from nltk.book. Construct a set of words that appear in text6 (Monty Python) but do not appear in text7 (Wall Street Journal)"
   ]
  },
  {
   "cell_type": "code",
   "execution_count": 12,
   "metadata": {},
   "outputs": [],
   "source": [
    "t6_minus_t7 = set(text6) - set(text7)"
   ]
  },
  {
   "cell_type": "markdown",
   "metadata": {},
   "source": [
    "## 19. Import all books from nltk.book. Construct a set of words that appear in all texts text1-text9"
   ]
  },
  {
   "cell_type": "code",
   "execution_count": 28,
   "metadata": {},
   "outputs": [
    {
     "name": "stdout",
     "output_type": "stream",
     "text": [
      "\n",
      "dress\n",
      "CIA\n",
      "endanger\n",
      "haggles\n",
      "enraged\n",
      "Campaign\n",
      "normal\n",
      "monarchy\n",
      "forest-product\n"
     ]
    }
   ],
   "source": [
    "set_of_all = set(text1) | set(text2) | set(text3) | set(text4) | set(text5) | set(text6) | set(text7) | set(text8) | set(text9)\n",
    "i = 0\n",
    "for e in set_of_all:\n",
    "    print(e)\n",
    "    i += 1\n",
    "    if i==10: break"
   ]
  },
  {
   "cell_type": "markdown",
   "metadata": {},
   "source": [
    "## 20. Find the longest sentence in text2."
   ]
  },
  {
   "cell_type": "code",
   "execution_count": 79,
   "metadata": {},
   "outputs": [
    {
     "data": {
      "text/plain": [
       "[(141,\n",
       "  \"I spent two happy hours with him yesterday afternoon , he would not hear of our parting , though earnestly did I , as I thought my duty required , urge him to it for prudence sake , and would have parted for ever on the spot , would he consent to it ; but he said it should never be , he did not regard his mother ' s anger , while he could have my affections ; our prospects are not very bright , to be sure , but we must wait , and hope for the best ; he will be ordained shortly ; and should it ever be in your power to recommend him to any body that has a living to bestow , am very sure you will not forget us , and dear Mrs .\")]"
      ]
     },
     "execution_count": 79,
     "metadata": {},
     "output_type": "execute_result"
    }
   ],
   "source": [
    "from nltk import TokenSearcher\n",
    "\n",
    "# Create TokenSearcher object for beeter regexp searching\n",
    "ts = TokenSearcher(text2)\n",
    "stats = ts.findall(\"<[A-Z]><[^\\.!?]*><[\\.!?]>\")\n",
    "\n",
    "d = {len(s):s for s in stats}\n",
    "longest = [(k, \" \".join(v)) for k, v in d.items() if k == max(d)]\n",
    "longest"
   ]
  }
 ],
 "metadata": {
  "kernelspec": {
   "display_name": "Python 3",
   "language": "python",
   "name": "python3"
  },
  "language_info": {
   "codemirror_mode": {
    "name": "ipython",
    "version": 3
   },
   "file_extension": ".py",
   "mimetype": "text/x-python",
   "name": "python",
   "nbconvert_exporter": "python",
   "pygments_lexer": "ipython3",
   "version": "3.7.2"
  }
 },
 "nbformat": 4,
 "nbformat_minor": 2
}
