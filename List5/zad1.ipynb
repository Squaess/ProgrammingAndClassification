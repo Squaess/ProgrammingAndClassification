{
 "cells": [
  {
   "cell_type": "code",
   "execution_count": 16,
   "metadata": {},
   "outputs": [],
   "source": [
    "%matplotlib inline\n",
    "import matplotlib.pyplot as plt\n",
    "from nltk.cluster import KMeansClusterer, euclidean_distance\n",
    "import numpy as np"
   ]
  },
  {
   "cell_type": "code",
   "execution_count": 2,
   "metadata": {},
   "outputs": [
    {
     "data": {
      "text/plain": [
       "\u001b[1;31mType:\u001b[0m        module\n",
       "\u001b[1;31mString form:\u001b[0m <module 'nltk.cluster.kmeans' from 'C:\\\\Users\\\\babar\\\\Anaconda3\\\\envs\\\\ProgrammingAndClassification\\\\lib\\\\site-packages\\\\nltk\\\\cluster\\\\kmeans.py'>\n",
       "\u001b[1;31mFile:\u001b[0m        c:\\users\\babar\\anaconda3\\envs\\programmingandclassification\\lib\\site-packages\\nltk\\cluster\\kmeans.py\n",
       "\u001b[1;31mDocstring:\u001b[0m   <no docstring>\n"
      ]
     },
     "metadata": {},
     "output_type": "display_data"
    }
   ],
   "source": [
    "cluster.kmeans?"
   ]
  },
  {
   "cell_type": "code",
   "execution_count": 12,
   "metadata": {},
   "outputs": [],
   "source": [
    "S = [\n",
    "    np.array(f, dtype=np.float) for f in [\n",
    "        [1, 1], [1, 4], [1.1, 2], [1, 1.1],\n",
    "        [1.2,2.2],[5,1],[-1, -1], [-1, -4],\n",
    "        [-5.1, -2.1],[-5.2,-0.9],[-5.1,-1.1],\n",
    "        [-5,-1],[-6,2],[-6.2, 2.1],[-5,3],\n",
    "        [-6, 3.1],[-6.2, 3.2],[-5.5, 3.3]\n",
    "    ]\n",
    "]"
   ]
  },
  {
   "cell_type": "code",
   "execution_count": 9,
   "metadata": {},
   "outputs": [
    {
     "data": {
      "text/plain": [
       "\u001b[1;31mInit signature:\u001b[0m\n",
       "\u001b[0mKMeansClusterer\u001b[0m\u001b[1;33m(\u001b[0m\u001b[1;33m\n",
       "\u001b[0m    \u001b[0mnum_means\u001b[0m\u001b[1;33m,\u001b[0m\u001b[1;33m\n",
       "\u001b[0m    \u001b[0mdistance\u001b[0m\u001b[1;33m,\u001b[0m\u001b[1;33m\n",
       "\u001b[0m    \u001b[0mrepeats\u001b[0m\u001b[1;33m=\u001b[0m\u001b[1;36m1\u001b[0m\u001b[1;33m,\u001b[0m\u001b[1;33m\n",
       "\u001b[0m    \u001b[0mconv_test\u001b[0m\u001b[1;33m=\u001b[0m\u001b[1;36m1e-06\u001b[0m\u001b[1;33m,\u001b[0m\u001b[1;33m\n",
       "\u001b[0m    \u001b[0minitial_means\u001b[0m\u001b[1;33m=\u001b[0m\u001b[1;32mNone\u001b[0m\u001b[1;33m,\u001b[0m\u001b[1;33m\n",
       "\u001b[0m    \u001b[0mnormalise\u001b[0m\u001b[1;33m=\u001b[0m\u001b[1;32mFalse\u001b[0m\u001b[1;33m,\u001b[0m\u001b[1;33m\n",
       "\u001b[0m    \u001b[0msvd_dimensions\u001b[0m\u001b[1;33m=\u001b[0m\u001b[1;32mNone\u001b[0m\u001b[1;33m,\u001b[0m\u001b[1;33m\n",
       "\u001b[0m    \u001b[0mrng\u001b[0m\u001b[1;33m=\u001b[0m\u001b[1;32mNone\u001b[0m\u001b[1;33m,\u001b[0m\u001b[1;33m\n",
       "\u001b[0m    \u001b[0mavoid_empty_clusters\u001b[0m\u001b[1;33m=\u001b[0m\u001b[1;32mFalse\u001b[0m\u001b[1;33m,\u001b[0m\u001b[1;33m\n",
       "\u001b[0m\u001b[1;33m)\u001b[0m\u001b[1;33m\u001b[0m\u001b[0m\n",
       "\u001b[1;31mDocstring:\u001b[0m     \n",
       "The K-means clusterer starts with k arbitrary chosen means then allocates\n",
       "each vector to the cluster with the closest mean. It then recalculates the\n",
       "means of each cluster as the centroid of the vectors in the cluster. This\n",
       "process repeats until the cluster memberships stabilise. This is a\n",
       "hill-climbing algorithm which may converge to a local maximum. Hence the\n",
       "clustering is often repeated with random initial means and the most\n",
       "commonly occurring output means are chosen.\n",
       "\u001b[1;31mInit docstring:\u001b[0m\n",
       ":param  num_means:  the number of means to use (may use fewer)\n",
       ":type   num_means:  int\n",
       ":param  distance:   measure of distance between two vectors\n",
       ":type   distance:   function taking two vectors and returing a float\n",
       ":param  repeats:    number of randomised clustering trials to use\n",
       ":type   repeats:    int\n",
       ":param  conv_test:  maximum variation in mean differences before\n",
       "                    deemed convergent\n",
       ":type   conv_test:  number\n",
       ":param  initial_means: set of k initial means\n",
       ":type   initial_means: sequence of vectors\n",
       ":param  normalise:  should vectors be normalised to length 1\n",
       ":type   normalise:  boolean\n",
       ":param svd_dimensions: number of dimensions to use in reducing vector\n",
       "                       dimensionsionality with SVD\n",
       ":type svd_dimensions: int\n",
       ":param  rng:        random number generator (or None)\n",
       ":type   rng:        Random\n",
       ":param avoid_empty_clusters: include current centroid in computation\n",
       "                             of next one; avoids undefined behavior\n",
       "                             when clusters become empty\n",
       ":type avoid_empty_clusters: boolean\n",
       "\u001b[1;31mFile:\u001b[0m           c:\\users\\babar\\anaconda3\\envs\\programmingandclassification\\lib\\site-packages\\nltk\\cluster\\kmeans.py\n",
       "\u001b[1;31mType:\u001b[0m           ABCMeta\n",
       "\u001b[1;31mSubclasses:\u001b[0m     \n"
      ]
     },
     "metadata": {},
     "output_type": "display_data"
    }
   ],
   "source": [
    "KMeansClusterer?"
   ]
  },
  {
   "cell_type": "code",
   "execution_count": 13,
   "metadata": {},
   "outputs": [
    {
     "name": "stdout",
     "output_type": "stream",
     "text": [
      "k-means trial 0\n",
      "iteration\n",
      "iteration\n",
      "iteration\n"
     ]
    }
   ],
   "source": [
    "clusterer = KMeansClusterer(2, euclidean_distance)\n",
    "clusters = clusterer.cluster(S, True, trace=True)"
   ]
  },
  {
   "cell_type": "code",
   "execution_count": 15,
   "metadata": {},
   "outputs": [
    {
     "name": "stdout",
     "output_type": "stream",
     "text": [
      "Clustered: [array([1., 1.]), array([1., 4.]), array([1.1, 2. ]), array([1. , 1.1]), array([1.2, 2.2]), array([5., 1.]), array([-1., -1.]), array([-1., -4.]), array([-5.1, -2.1]), array([-5.2, -0.9]), array([-5.1, -1.1]), array([-5., -1.]), array([-6.,  2.]), array([-6.2,  2.1]), array([-5.,  3.]), array([-6. ,  3.1]), array([-6.2,  3.2]), array([-5.5,  3.3])]\n",
      "As: [1, 1, 1, 1, 1, 1, 1, 1, 0, 0, 0, 0, 0, 0, 0, 0, 0, 0]\n",
      "Means: [array([-5.53,  1.16]), array([1.0375, 0.7875])]\n",
      "\n"
     ]
    }
   ],
   "source": [
    "print('Clustered:', S)\n",
    "print('As:', clusters)\n",
    "print('Means:', clusterer.means())\n",
    "print()"
   ]
  },
  {
   "cell_type": "code",
   "execution_count": 35,
   "metadata": {},
   "outputs": [],
   "source": [
    "def plotuj(vectors, clusters, means):\n",
    "    fig = plt.figure()\n",
    "    ax = fig.add_subplot(111)\n",
    "    scatter = ax.scatter(\n",
    "        [x[0] for x in vectors],\n",
    "        [x[1] for x in vectors],\n",
    "        c=clusters\n",
    "    )\n",
    "    for x in means:\n",
    "        ax.scatter(x[0],x[1],s=50,c='red',marker='+')\n",
    "    ax.set_xlabel('x')\n",
    "    ax.set_ylabel('y')"
   ]
  },
  {
   "cell_type": "code",
   "execution_count": 37,
   "metadata": {},
   "outputs": [
    {
     "data": {
      "image/png": "[encoded data removed]",
      "text/plain": [
       "<Figure size 432x288 with 1 Axes>"
      ]
     },
     "metadata": {
      "needs_background": "light"
     },
     "output_type": "display_data"
    }
   ],
   "source": [
    "plotuj(S, clusters, clusterer.means())"
   ]
  },
  {
   "cell_type": "code",
   "execution_count": null,
   "metadata": {},
   "outputs": [],
   "source": []
  }
 ],
 "metadata": {
  "kernelspec": {
   "display_name": "Python 3",
   "language": "python",
   "name": "python3"
  },
  "language_info": {
   "codemirror_mode": {
    "name": "ipython",
    "version": 3
   },
   "file_extension": ".py",
   "mimetype": "text/x-python",
   "name": "python",
   "nbconvert_exporter": "python",
   "pygments_lexer": "ipython3",
   "version": "3.7.0"
  }
 },
 "nbformat": 4,
 "nbformat_minor": 2
}
