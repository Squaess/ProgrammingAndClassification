{
 "cells": [
  {
   "cell_type": "markdown",
   "metadata": {},
   "source": [
    "# 31. Generate a set $S$ of $n$ random bitstrings of length $100$. Find $min_{x,y}\\in S: sha1(x||y)$, where $x||y$ denotes concatenation of bitstrings $x$ and $y$. Estimate, what is the maximal $n$ for this task that can be handled by your computer?"
   ]
  },
  {
   "cell_type": "code",
   "execution_count": 5,
   "metadata": {},
   "outputs": [],
   "source": [
    "import nltk\n",
    "import numpy as np\n",
    "from hashlib import sha1\n",
    "from itertools import combinations\n",
    "import timeit\n",
    "%load_ext memory_profiler"
   ]
  },
  {
   "cell_type": "code",
   "execution_count": 13,
   "metadata": {},
   "outputs": [],
   "source": [
    "np.random.seed(1)\n",
    "def gen_rand_bit_set(n:int, l:int = 100) -> set:\n",
    "    \"\"\" gen_rand_bit_set generates set of \n",
    "        `n` random bitstrings of length `l`.\n",
    "        \n",
    "        :param n: number of items in the set\n",
    "        :type n: Int\n",
    "        :param l: length of the bitstring\n",
    "        :type l: int\n",
    "        \n",
    "        :rtype: set\n",
    "    \"\"\"\n",
    "    assert l > 0, \"Lenght of the string must be > 0.\"\n",
    "    n_max = 2**(l)\n",
    "    n_max = np.iinfo(np.ulonglong).max if n_max > np.iinfo(np.ulonglong).max else n_max\n",
    "    assert n <= n_max\n",
    "    bit_strings = set()\n",
    "    while len(bit_strings) < n:\n",
    "        x = np.random.randint(n_max, size = 1, dtype=np.ulonglong)\n",
    "        x_b = f\"{{0:0{l}b}}\".format(x[0])\n",
    "        bit_strings.add(x_b)\n",
    "    \n",
    "    return bit_strings"
   ]
  },
  {
   "cell_type": "code",
   "execution_count": 17,
   "metadata": {},
   "outputs": [],
   "source": [
    "def gen_rand_bit_list(n:int, l:int = 100) -> list:\n",
    "    \"\"\" gen_rand_bit_set generates set of \n",
    "        `n` random bitstrings of length `l`.\n",
    "        \n",
    "        :param n: number of items in the set\n",
    "        :type n: Int\n",
    "        :param l: length of the bitstring\n",
    "        :type l: int\n",
    "        \n",
    "        :rtype: list\n",
    "    \"\"\"\n",
    "    assert l > 0, \"Lenght of the string must be > 0.\"\n",
    "    n_max = 2**(l)\n",
    "    n_max = np.iinfo(np.ulonglong).max if n_max > np.iinfo(np.ulonglong).max else n_max\n",
    "    assert n <= n_max\n",
    "    bit_strings = []\n",
    "    while len(bit_strings) < n:\n",
    "        x = np.random.randint(n_max, size = 1, dtype=np.ulonglong)\n",
    "        x_b = f\"{{0:0{l}b}}\".format(x[0])\n",
    "        bit_strings += x_b\n",
    "    \n",
    "    return bit_strings"
   ]
  },
  {
   "cell_type": "code",
   "execution_count": 7,
   "metadata": {},
   "outputs": [],
   "source": [
    "def find_min(bin_set:set) -> int:\n",
    "    \"\"\" find_min finds minimum hash value in \n",
    "        set `bin_set` computing sha1 for each\n",
    "        value in this set.\n",
    "        \n",
    "        :param bin_set: set of binary strings\n",
    "        \n",
    "        :rtype: int\n",
    "    \"\"\"\n",
    "    return min(\n",
    "        [\n",
    "            int(sha1((i1+i2).encode()).hexdigest(), 16) \n",
    "            for i1, i2 in combinations(bin_set, 2)\n",
    "        ],\n",
    "        default = None\n",
    "    )"
   ]
  },
  {
   "cell_type": "code",
   "execution_count": null,
   "metadata": {},
   "outputs": [],
   "source": [
    "with open(\"result.csv\", \"w\") as f:\n",
    "    f.write(\"n,T\\n\")\n",
    "    for n in range(0,2500, 100):\n",
    "        ss = gen_rand_bit_set(n,100)\n",
    "        t = timeit.timeit(f\"find_min(ss)\", number=15, globals=globals())\n",
    "        f.write(str(n) +\",\"+str(t)+\"\\n\")\n",
    "    \n",
    "        # %memit find_min(gen_rand_bit_set({n}, 100))"
   ]
  },
  {
   "cell_type": "code",
   "execution_count": 24,
   "metadata": {},
   "outputs": [
    {
     "data": {
      "text/plain": [
       "[<matplotlib.lines.Line2D at 0x92272dba8>]"
      ]
     },
     "execution_count": 24,
     "metadata": {},
     "output_type": "execute_result"
    },
    {
     "data": {
      "image/png": "[encoded data removed]",
      "text/plain": [
       "<Figure size 432x288 with 1 Axes>"
      ]
     },
     "metadata": {
      "needs_background": "light"
     },
     "output_type": "display_data"
    }
   ],
   "source": [
    "import matplotlib.pyplot as plt\n",
    "import pandas as pd\n",
    "%matplotlib inline\n",
    "\n",
    "df = pd.read_csv(\"result_list.csv\")\n",
    "plt.plot(df[\"n\"],df[\"T\"])"
   ]
  },
  {
   "cell_type": "code",
   "execution_count": 30,
   "metadata": {},
   "outputs": [
    {
     "name": "stderr",
     "output_type": "stream",
     "text": [
      "/anaconda3/envs/ProgAndClass/lib/python3.6/site-packages/ipykernel_launcher.py:7: RuntimeWarning: divide by zero encountered in log10\n",
      "  import sys\n"
     ]
    },
    {
     "data": {
      "text/plain": [
       "[<matplotlib.lines.Line2D at 0x91f26f940>]"
      ]
     },
     "execution_count": 30,
     "metadata": {},
     "output_type": "execute_result"
    },
    {
     "data": {
      "image/png": "[encoded data removed]",
      "text/plain": [
       "<Figure size 432x288 with 1 Axes>"
      ]
     },
     "metadata": {
      "needs_background": "light"
     },
     "output_type": "display_data"
    }
   ],
   "source": [
    "import matplotlib.pyplot as plt\n",
    "import pandas as pd\n",
    "%matplotlib inline\n",
    "\n",
    "df = pd.read_csv(\"result.csv\")\n",
    "#plt.plot(df[\"n\"],df[\"T\"])\n",
    "plt.plot(np.log(df[\"n\"]),np.log(df[\"T\"]))"
   ]
  },
  {
   "cell_type": "markdown",
   "metadata": {},
   "source": [
    "As we see on the graph that this function has quadratic behaviour. This is correct regarding the complexity of comparison each 2 objects. ($O(n^{2})$)\n",
    "So then if gor 0 is aproximately 0, and for 1000 is around 10[s], then a =  1e-5. In one day (24h - 86 400 s) we can do n around 92951. For a one week (7 days = 604 800s), n is around 245927. One year n ~ 1.7 * 10^6"
   ]
  },
  {
   "cell_type": "code",
   "execution_count": 277,
   "metadata": {},
   "outputs": [
    {
     "name": "stdout",
     "output_type": "stream",
     "text": [
      "peak memory: 183.45 MiB, increment: 0.00 MiB\n"
     ]
    }
   ],
   "source": [
    "%memit find_min(gen_rand_bit_set({200}, 100))"
   ]
  },
  {
   "cell_type": "markdown",
   "metadata": {},
   "source": [
    "# 32. (use NLTK). Let $S1, S2, S3$ be the sets of all words shorter than 8 letters from text1,text2, text3, respectively. Compute signatures for $S1, S2, S3$ represented by 100 minhashes and then estimate Jaccard similarity between each pair of $S1, S2, S3$."
   ]
  },
  {
   "cell_type": "code",
   "execution_count": 278,
   "metadata": {},
   "outputs": [],
   "source": [
    "from nltk.book import *\n",
    "from nltk.corpus import stopwords"
   ]
  },
  {
   "cell_type": "code",
   "execution_count": 279,
   "metadata": {},
   "outputs": [],
   "source": [
    "def get_words(text):\n",
    "    stop_words = set(stopwords.words(\"english\"))\n",
    "    return set([w.lower() for w in text if w not in stop_words and len(w) < 8])"
   ]
  },
  {
   "cell_type": "code",
   "execution_count": 280,
   "metadata": {},
   "outputs": [],
   "source": [
    "t1, t2, t3 = list(map(get_words, [text1, text2, text3]))"
   ]
  },
  {
   "cell_type": "code",
   "execution_count": 281,
   "metadata": {},
   "outputs": [],
   "source": [
    "def get_permutation(n):\n",
    "    return np.random.permutation(n)"
   ]
  },
  {
   "cell_type": "code",
   "execution_count": 282,
   "metadata": {},
   "outputs": [],
   "source": [
    "def generate_idxs(texts):\n",
    "    arr = []\n",
    "    for t in texts:\n",
    "        for w in t:\n",
    "            if w not in arr:\n",
    "                arr.append(w)\n",
    "    return arr"
   ]
  },
  {
   "cell_type": "code",
   "execution_count": 283,
   "metadata": {},
   "outputs": [],
   "source": [
    "def create_arrays(texts, l=100):\n",
    "    arr = generate_idxs(texts)\n",
    "                \n",
    "    s = np.zeros((len(arr),len(texts)))\n",
    "    for j in range(len(texts)):\n",
    "        acc_text = texts[j]\n",
    "        for i in range(len(arr)):\n",
    "            if arr[i] in acc_text:\n",
    "                s[i, j] = 1\n",
    "    minhashs = np.empty((l, len(texts)), dtype=np.int)\n",
    "    for i in range(l):\n",
    "        rand_perm = get_permutation(len(arr))\n",
    "        for t in range(len(texts)):\n",
    "            for idx in rand_perm:\n",
    "                if s[idx, t] == 1:\n",
    "                    minhashs[i, t] = idx\n",
    "                    break\n",
    "    return minhashs"
   ]
  },
  {
   "cell_type": "code",
   "execution_count": 284,
   "metadata": {},
   "outputs": [],
   "source": [
    "ar = create_arrays([t1,t2,t3])"
   ]
  },
  {
   "cell_type": "code",
   "execution_count": 285,
   "metadata": {},
   "outputs": [
    {
     "name": "stdout",
     "output_type": "stream",
     "text": [
      "!\n",
      "Comparison of 0, and 1 texts.\n",
      "29 100 0.29\n",
      "!\n",
      "Comparison of 0, and 2 texts.\n",
      "16 100 0.16\n",
      "!\n",
      "Comparison of 1, and 2 texts.\n",
      "19 100 0.19\n"
     ]
    }
   ],
   "source": [
    "for c1, c2 in combinations(enumerate([ar[:,0], ar[:,1], ar[:,2]]), 2):\n",
    "    print(\"!\")\n",
    "    print(f\"Comparison of {c1[0]}, and {c2[0]} texts.\")\n",
    "    match = 0\n",
    "    for i1, i2 in zip(c1[1],c2[1]):\n",
    "        if i1 == i2:\n",
    "            match += 1\n",
    "    print(match, ar.shape[0], match/ar.shape[0])"
   ]
  },
  {
   "cell_type": "markdown",
   "metadata": {},
   "source": [
    "# 33. Compare the results from the previous exercise with the exact Jaccard similarity of sets $S1, S2, S3$. What if random permutation of the characteristic matrix rows were replaced with a random mapping?"
   ]
  },
  {
   "cell_type": "code",
   "execution_count": 286,
   "metadata": {},
   "outputs": [],
   "source": [
    "def jaccard_sim(s1, s2):\n",
    "    assert s1 or s2 , \"One of the set must contain elements\"\n",
    "    return (len(set(s1) & set(s2)) / len(set(s1) | set(s2)) )"
   ]
  },
  {
   "cell_type": "code",
   "execution_count": 287,
   "metadata": {},
   "outputs": [
    {
     "name": "stdout",
     "output_type": "stream",
     "text": [
      "exact JS on 0, 1\n",
      "0.26869367138754086\n",
      "exact JS on 0, 2\n",
      "0.1313181367690783\n",
      "exact JS on 1, 2\n",
      "0.19528322680185145\n"
     ]
    }
   ],
   "source": [
    "for c1,c2 in combinations(enumerate([t1,t2,t3]), 2):\n",
    "    print(f\"exact JS on {c1[0]}, {c2[0]}\")\n",
    "    print(jaccard_sim(c1[1], c2[1]))"
   ]
  },
  {
   "cell_type": "code",
   "execution_count": null,
   "metadata": {},
   "outputs": [],
   "source": []
  }
 ],
 "metadata": {
  "kernelspec": {
   "display_name": "Python 3",
   "language": "python",
   "name": "python3"
  },
  "language_info": {
   "codemirror_mode": {
    "name": "ipython",
    "version": 3
   },
   "file_extension": ".py",
   "mimetype": "text/x-python",
   "name": "python",
   "nbconvert_exporter": "python",
   "pygments_lexer": "ipython3",
   "version": "3.6.7"
  }
 },
 "nbformat": 4,
 "nbformat_minor": 2
}
