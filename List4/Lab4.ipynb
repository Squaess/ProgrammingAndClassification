{
 "cells": [
  {
   "cell_type": "code",
   "execution_count": 6,
   "metadata": {},
   "outputs": [],
   "source": [
    "import nltk\n",
    "import numpy as np"
   ]
  },
  {
   "cell_type": "code",
   "execution_count": 30,
   "metadata": {},
   "outputs": [],
   "source": [
    "def gen_rand_bit_set(n:int, l:int = 100) -> set:\n",
    "    \"\"\" gen_rand_bit_set generates set of \n",
    "        `n` random bitstrings of length `l`.\n",
    "        \n",
    "        :param n: number of items in the set\n",
    "        :type n: Int\n",
    "        :param l: length of the bitstring\n",
    "        :type l: int\n",
    "        \n",
    "        :rtype: set\n",
    "    \"\"\"\n",
    "    n_max = 2**(l)-1\n",
    "    r_array = np.random.randint(n_max, size = n)\n",
    "    print(r_array)\n",
    "    print(list(map(lambda x: f\"{{0:0{l}b}}\".format(x), r_array)))\n",
    "    pass"
   ]
  },
  {
   "cell_type": "code",
   "execution_count": 31,
   "metadata": {},
   "outputs": [
    {
     "name": "stdout",
     "output_type": "stream",
     "text": [
      "[4 3 6 4]\n",
      "['100', '011', '110', '100']\n"
     ]
    }
   ],
   "source": [
    "gen_rand_bit_set(4, 3)"
   ]
  },
  {
   "cell_type": "code",
   "execution_count": null,
   "metadata": {},
   "outputs": [],
   "source": []
  }
 ],
 "metadata": {
  "kernelspec": {
   "display_name": "Python 3",
   "language": "python",
   "name": "python3"
  },
  "language_info": {
   "codemirror_mode": {
    "name": "ipython",
    "version": 3
   },
   "file_extension": ".py",
   "mimetype": "text/x-python",
   "name": "python",
   "nbconvert_exporter": "python",
   "pygments_lexer": "ipython3",
   "version": "3.7.0"
  }
 },
 "nbformat": 4,
 "nbformat_minor": 2
}
