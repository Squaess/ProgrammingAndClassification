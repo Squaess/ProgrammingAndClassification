{
 "cells": [
  {
   "cell_type": "markdown",
   "metadata": {},
   "source": [
    "# Introduction to Python Programming Language"
   ]
  },
  {
   "cell_type": "markdown",
   "metadata": {},
   "source": [
    "### 1. Ask the user for a number. Check if the input is an integer. Depending on whether the number is odd or even, print out an appropriate message to the user."
   ]
  },
  {
   "cell_type": "code",
   "execution_count": 2,
   "metadata": {
    "scrolled": true
   },
   "outputs": [
    {
     "name": "stdout",
     "output_type": "stream",
     "text": [
      "Please insert number: asdf\n",
      "Value Error occured. Couldn't parse asdf to int\n",
      "This will execute anyway!!\n"
     ]
    }
   ],
   "source": [
    "user_in = input('Please insert number: ')\n",
    "try:\n",
    "    parsed = int(user_in)\n",
    "except ValueError:\n",
    "    print(f\"Value Error occured. Couldn't parse {user_in} to int\")\n",
    "else:\n",
    "    if parsed % 2 == 0:\n",
    "        print(f\"'{parsed}' is an even number\")\n",
    "    else:\n",
    "        print(f\"'{parsed}' is an odd number\")\n",
    "finally:\n",
    "    print(\"This will execute anyway!!\")"
   ]
  },
  {
   "cell_type": "markdown",
   "metadata": {},
   "source": [
    "### 2. enerate 20 integers in the range 10−99 at random and return their mean value and maximal value."
   ]
  },
  {
   "cell_type": "code",
   "execution_count": 2,
   "metadata": {},
   "outputs": [],
   "source": [
    "import random"
   ]
  },
  {
   "cell_type": "code",
   "execution_count": 3,
   "metadata": {},
   "outputs": [
    {
     "name": "stdout",
     "output_type": "stream",
     "text": [
      "[97, 66, 51, 57, 42, 68, 83, 22, 30, 18, 33, 93, 54, 72, 47, 64, 29, 24, 77, 63]\n",
      "[64, 67, 80, 16, 11, 38, 75, 35, 17, 86, 75, 89, 45, 53, 69, 80, 16, 89, 32, 92]\n"
     ]
    }
   ],
   "source": [
    "# Without repetition\n",
    "no_rep = random.sample(range(10,100),20)\n",
    "with_rep = random.choices(range(10,100), k=20)\n",
    "print(no_rep, with_rep, sep=\"\\n\")"
   ]
  },
  {
   "cell_type": "code",
   "execution_count": 4,
   "metadata": {},
   "outputs": [
    {
     "name": "stdout",
     "output_type": "stream",
     "text": [
      "max(no_rep): 97\n",
      "max(with_rep): 92\n"
     ]
    }
   ],
   "source": [
    "print(f\"max(no_rep): {max(no_rep)}\")\n",
    "print(f\"max(with_rep): {max(with_rep)}\")"
   ]
  },
  {
   "cell_type": "code",
   "execution_count": 5,
   "metadata": {},
   "outputs": [
    {
     "name": "stdout",
     "output_type": "stream",
     "text": [
      "54.5\n",
      "54.5\n"
     ]
    }
   ],
   "source": [
    "print(sum(no_rep)/len(no_rep))\n",
    "import numpy as np\n",
    "print(np.mean(no_rep))"
   ]
  },
  {
   "cell_type": "markdown",
   "metadata": {},
   "source": [
    "### 3. Write a function that computes cosine of the angle between two d-dimensional vectors\n",
    "\n",
    "Formula to calculate $\\cos$ of two vectors $\\vec{v}$ and $\\vec{d}$.\n",
    "\n",
    "$ \\cos(\\theta) = \\frac{\\vec{v} * \\vec{d} }{ ||\\vec{v}|| * ||\\vec{d}|| }$, where $\\theta$ is an angle between thease two vectors."
   ]
  },
  {
   "cell_type": "code",
   "execution_count": 6,
   "metadata": {},
   "outputs": [],
   "source": [
    "import math\n",
    "\n",
    "def vec_length(a):\n",
    "    \"\"\"\n",
    "    Args:\n",
    "        a (list): Vector like list\n",
    "    Returns:\n",
    "        float: Length of the vector 'a'\n",
    "    \"\"\"\n",
    "    return math.sqrt(sum(map(lambda x: x**2, a)))"
   ]
  },
  {
   "cell_type": "code",
   "execution_count": 7,
   "metadata": {},
   "outputs": [
    {
     "name": "stdout",
     "output_type": "stream",
     "text": [
      "12.409673645990857\n"
     ]
    }
   ],
   "source": [
    "# test vec_length function\n",
    "print(vec_length([12, 1, 3]))"
   ]
  },
  {
   "cell_type": "code",
   "execution_count": 8,
   "metadata": {},
   "outputs": [],
   "source": [
    "def primitive_cosine(a, b):\n",
    "    \"\"\"\n",
    "    Args:\n",
    "        a (list): First vector.\n",
    "        b (list): Second vector.\n",
    "\n",
    "    Returns:\n",
    "        float: Cosine value between thease two vectors\n",
    "    \"\"\"\n",
    "    assert len(a) == len(b), \"Vectors should be the same dimension\"\n",
    "    \n",
    "    # calculate dot product\n",
    "    dot_prod = 0\n",
    "    for x, y in zip(a, b):\n",
    "        dot_prod += x*y\n",
    "    \n",
    "    #multiplication of vector length\n",
    "    return dot_prod / (vec_length(a) * vec_length(b))\n",
    "    "
   ]
  },
  {
   "cell_type": "code",
   "execution_count": 9,
   "metadata": {},
   "outputs": [
    {
     "name": "stdout",
     "output_type": "stream",
     "text": [
      "0.5188745216627709\n"
     ]
    }
   ],
   "source": [
    "print(primitive_cosine([1, 2, 3], [3, 2, 0]))"
   ]
  },
  {
   "cell_type": "code",
   "execution_count": 10,
   "metadata": {},
   "outputs": [],
   "source": [
    "import numpy as np\n",
    "\n",
    "def cosine(a, b):\n",
    "    \"\"\"\n",
    "    Args:\n",
    "        a (list): First vector.\n",
    "        b (list): Second vector.\n",
    "    \"\"\"\n",
    "    assert len(a) == len(b), \"Vectors should be the same dimension\"\n",
    "    \n",
    "    a = np.array(a)\n",
    "    b = np.array(b)\n",
    "    \n",
    "    return  np.dot(a,b) / (np.sqrt((a*a).sum()) * np.sqrt((b*b).sum()))"
   ]
  },
  {
   "cell_type": "code",
   "execution_count": 11,
   "metadata": {},
   "outputs": [
    {
     "name": "stdout",
     "output_type": "stream",
     "text": [
      "0.5188745216627709\n"
     ]
    }
   ],
   "source": [
    "print(cosine([1, 2, 3], [3, 2, 0]))"
   ]
  },
  {
   "cell_type": "code",
   "execution_count": 12,
   "metadata": {},
   "outputs": [
    {
     "data": {
      "text/plain": [
       "array([3, 4, 3])"
      ]
     },
     "execution_count": 12,
     "metadata": {},
     "output_type": "execute_result"
    }
   ],
   "source": [
    "# elementwise\n",
    "np.array([1,2,3]) * np.array([3,2,1])"
   ]
  },
  {
   "cell_type": "markdown",
   "metadata": {},
   "source": [
    "### 4. Write a function that for a given set of integers {a, . . . , b} and an integer c lists all integers greater than a and smaller than b that are divisible by c."
   ]
  },
  {
   "cell_type": "code",
   "execution_count": 4,
   "metadata": {},
   "outputs": [],
   "source": [
    "def beetween_and_divisible(numbers, divisor):\n",
    "    \"\"\" I assume that 'numbers'\n",
    "        are in proper order, so if number[0] > number[-1]\n",
    "        there will be no results\n",
    "        \n",
    "    Args:\n",
    "        numbers (list): List of numbers\n",
    "        divisor (int): Int number\n",
    "    Return:\n",
    "        (list): List of numbers that are between a nd b and are divisible by c\n",
    "    \"\"\"\n",
    "    if len(numbers) < 2:\n",
    "        raise IndexError(\"List of numbers should contain at least 2 elements.\")\n",
    "    \n",
    "    a = numbers[0]\n",
    "    b = numbers[-1]\n",
    "    return list(filter(lambda x: a < x < b and x%divisor == 0, numbers))"
   ]
  },
  {
   "cell_type": "code",
   "execution_count": 5,
   "metadata": {},
   "outputs": [],
   "source": [
    "assert beetween_and_divisible(range(10), 2) == [2, 4, 6, 8]"
   ]
  },
  {
   "cell_type": "markdown",
   "metadata": {},
   "source": [
    "### 5. Write a program that for two lists x and y (possibly of different sizes) returns a list of elements that are common between the lists."
   ]
  },
  {
   "cell_type": "code",
   "execution_count": 6,
   "metadata": {},
   "outputs": [],
   "source": [
    "def common(x, y):\n",
    "    \"\"\"\n",
    "    Args:\n",
    "        x (list):\n",
    "        y (list):\n",
    "        \n",
    "    Return:\n",
    "        (list): List of common elements\n",
    "    \"\"\"\n",
    "    x = list(set(x))\n",
    "    y = list(set(y))\n",
    "    return [i for i in x if i in y]\n",
    "\n",
    "def common2(x, y):\n",
    "    \"\"\" This function will also work \n",
    "        for dictionaries in list, \n",
    "        so unhasable objects\n",
    "    Args:\n",
    "        x (list):\n",
    "        y (list):\n",
    "        \n",
    "    Return:\n",
    "        (list): List of common elements\n",
    "    \"\"\"\n",
    "\n",
    "    common = []\n",
    "    for i in x:\n",
    "        for j in y:\n",
    "            if j in x and j not in common:\n",
    "                common.append(j)\n",
    "    return common"
   ]
  },
  {
   "cell_type": "code",
   "execution_count": 7,
   "metadata": {},
   "outputs": [
    {
     "name": "stdout",
     "output_type": "stream",
     "text": [
      "[4, 'str', -5]\n"
     ]
    },
    {
     "ename": "TypeError",
     "evalue": "unhashable type: 'dict'",
     "output_type": "error",
     "traceback": [
      "\u001b[0;31m---------------------------------------------------------------------------\u001b[0m",
      "\u001b[0;31mTypeError\u001b[0m                                 Traceback (most recent call last)",
      "\u001b[0;32m<ipython-input-7-3b6a487975ef>\u001b[0m in \u001b[0;36m<module>\u001b[0;34m\u001b[0m\n\u001b[1;32m      1\u001b[0m \u001b[0mprint\u001b[0m\u001b[0;34m(\u001b[0m\u001b[0mcommon\u001b[0m\u001b[0;34m(\u001b[0m\u001b[0;34m[\u001b[0m\u001b[0;36m4\u001b[0m\u001b[0;34m,\u001b[0m\u001b[0;36m4\u001b[0m\u001b[0;34m,\u001b[0m\u001b[0;36m4\u001b[0m\u001b[0;34m,\u001b[0m\u001b[0;36m4\u001b[0m\u001b[0;34m,\u001b[0m\u001b[0;36m5\u001b[0m\u001b[0;34m,\u001b[0m\u001b[0;34m\"\"\u001b[0m\u001b[0;34m,\u001b[0m\u001b[0;36m12\u001b[0m\u001b[0;34m,\u001b[0m\u001b[0;36m102\u001b[0m\u001b[0;34m,\u001b[0m\u001b[0;34m-\u001b[0m\u001b[0;36m5\u001b[0m\u001b[0;34m,\u001b[0m \u001b[0;34m\"str\"\u001b[0m\u001b[0;34m,\u001b[0m \u001b[0;34m\"nie_str\"\u001b[0m\u001b[0;34m]\u001b[0m\u001b[0;34m,\u001b[0m \u001b[0;34m[\u001b[0m\u001b[0;34m\"str\"\u001b[0m\u001b[0;34m,\u001b[0m \u001b[0;34m\"ala\"\u001b[0m\u001b[0;34m,\u001b[0m \u001b[0;36m4\u001b[0m\u001b[0;34m,\u001b[0m \u001b[0;34m-\u001b[0m\u001b[0;36m5\u001b[0m\u001b[0;34m]\u001b[0m\u001b[0;34m)\u001b[0m\u001b[0;34m)\u001b[0m\u001b[0;34m\u001b[0m\u001b[0;34m\u001b[0m\u001b[0m\n\u001b[0;32m----> 2\u001b[0;31m \u001b[0mprint\u001b[0m\u001b[0;34m(\u001b[0m\u001b[0mcommon\u001b[0m\u001b[0;34m(\u001b[0m\u001b[0;34m[\u001b[0m\u001b[0;36m4\u001b[0m\u001b[0;34m,\u001b[0m\u001b[0;36m4\u001b[0m\u001b[0;34m,\u001b[0m\u001b[0;36m4\u001b[0m\u001b[0;34m,\u001b[0m\u001b[0;36m4\u001b[0m\u001b[0;34m,\u001b[0m\u001b[0;36m5\u001b[0m\u001b[0;34m,\u001b[0m\u001b[0;34m\"\"\u001b[0m\u001b[0;34m,\u001b[0m\u001b[0;36m12\u001b[0m\u001b[0;34m,\u001b[0m\u001b[0;36m102\u001b[0m\u001b[0;34m,\u001b[0m\u001b[0;34m-\u001b[0m\u001b[0;36m5\u001b[0m\u001b[0;34m,\u001b[0m \u001b[0;34m\"str\"\u001b[0m\u001b[0;34m,\u001b[0m \u001b[0;34m\"nie_str\"\u001b[0m\u001b[0;34m]\u001b[0m\u001b[0;34m,\u001b[0m \u001b[0;34m[\u001b[0m\u001b[0;34m\"str\"\u001b[0m\u001b[0;34m,\u001b[0m \u001b[0;34m\"ala\"\u001b[0m\u001b[0;34m,\u001b[0m \u001b[0;34m{\u001b[0m\u001b[0;36m1\u001b[0m\u001b[0;34m:\u001b[0m \u001b[0;34m\"Jeden\"\u001b[0m\u001b[0;34m}\u001b[0m\u001b[0;34m,\u001b[0m \u001b[0;36m4\u001b[0m\u001b[0;34m,\u001b[0m \u001b[0;34m-\u001b[0m\u001b[0;36m5\u001b[0m\u001b[0;34m]\u001b[0m\u001b[0;34m)\u001b[0m\u001b[0;34m)\u001b[0m\u001b[0;34m\u001b[0m\u001b[0;34m\u001b[0m\u001b[0m\n\u001b[0m",
      "\u001b[0;32m<ipython-input-6-36ab537af51f>\u001b[0m in \u001b[0;36mcommon\u001b[0;34m(x, y)\u001b[0m\n\u001b[1;32m      9\u001b[0m     \"\"\"\n\u001b[1;32m     10\u001b[0m     \u001b[0mx\u001b[0m \u001b[0;34m=\u001b[0m \u001b[0mlist\u001b[0m\u001b[0;34m(\u001b[0m\u001b[0mset\u001b[0m\u001b[0;34m(\u001b[0m\u001b[0mx\u001b[0m\u001b[0;34m)\u001b[0m\u001b[0;34m)\u001b[0m\u001b[0;34m\u001b[0m\u001b[0;34m\u001b[0m\u001b[0m\n\u001b[0;32m---> 11\u001b[0;31m     \u001b[0my\u001b[0m \u001b[0;34m=\u001b[0m \u001b[0mlist\u001b[0m\u001b[0;34m(\u001b[0m\u001b[0mset\u001b[0m\u001b[0;34m(\u001b[0m\u001b[0my\u001b[0m\u001b[0;34m)\u001b[0m\u001b[0;34m)\u001b[0m\u001b[0;34m\u001b[0m\u001b[0;34m\u001b[0m\u001b[0m\n\u001b[0m\u001b[1;32m     12\u001b[0m     \u001b[0;32mreturn\u001b[0m \u001b[0;34m[\u001b[0m\u001b[0mi\u001b[0m \u001b[0;32mfor\u001b[0m \u001b[0mi\u001b[0m \u001b[0;32min\u001b[0m \u001b[0mx\u001b[0m \u001b[0;32mif\u001b[0m \u001b[0mi\u001b[0m \u001b[0;32min\u001b[0m \u001b[0my\u001b[0m\u001b[0;34m]\u001b[0m\u001b[0;34m\u001b[0m\u001b[0;34m\u001b[0m\u001b[0m\n\u001b[1;32m     13\u001b[0m \u001b[0;34m\u001b[0m\u001b[0m\n",
      "\u001b[0;31mTypeError\u001b[0m: unhashable type: 'dict'"
     ]
    }
   ],
   "source": [
    "print(common([4,4,4,4,5,\"\",12,102,-5, \"str\", \"nie_str\"], [\"str\", \"ala\", 4, -5]))\n",
    "print(common([4,4,4,4,5,\"\",12,102,-5, \"str\", \"nie_str\"], [\"str\", \"ala\", {1: \"Jeden\"}, 4, -5]))"
   ]
  },
  {
   "cell_type": "code",
   "execution_count": 8,
   "metadata": {},
   "outputs": [
    {
     "name": "stdout",
     "output_type": "stream",
     "text": [
      "['str', {1: 'Jeden'}, 4, -5]\n"
     ]
    }
   ],
   "source": [
    "print(common2([4,4,4,4,5,\"\",12,102,-5, {1: \"Jeden\"}, \"str\", \"nie_str\"], [\"str\", \"ala\", {1: \"Jeden\"}, 4, -5]))"
   ]
  },
  {
   "cell_type": "markdown",
   "metadata": {},
   "source": [
    "### 6. Write a function that removes all a letters form a given string x . For example, for x = abracadabra we expect x = brcdbr."
   ]
  },
  {
   "cell_type": "code",
   "execution_count": 18,
   "metadata": {},
   "outputs": [],
   "source": [
    "def removes(word):\n",
    "    \"\"\"\n",
    "    Args:\n",
    "        word (str): Given word\n",
    "    Return:\n",
    "        (str): 'word' without character 'a'\n",
    "    \"\"\"\n",
    "    return list(filter(lambda a: a != 'a', word))"
   ]
  },
  {
   "cell_type": "code",
   "execution_count": 19,
   "metadata": {},
   "outputs": [
    {
     "data": {
      "text/plain": [
       "['b', 'r', 'c', 'd', 'b', 'r']"
      ]
     },
     "execution_count": 19,
     "metadata": {},
     "output_type": "execute_result"
    }
   ],
   "source": [
    "removes(\"abracadabra\")"
   ]
  },
  {
   "cell_type": "markdown",
   "metadata": {},
   "source": [
    "### 7. Write a program that accepts a sentence and calculates the number of letters and digits. Hint: you can use functions isalpha() and isdigit()."
   ]
  },
  {
   "cell_type": "code",
   "execution_count": 20,
   "metadata": {},
   "outputs": [],
   "source": [
    "from collections import defaultdict\n",
    "\n",
    "def sentence_statistics(sentence):\n",
    "    \"\"\"\n",
    "    Args:\n",
    "        sentence (str): Whole sentence in one string\n",
    "    Return:\n",
    "        (dict): Number of letters and digits combined into dic\n",
    "    \"\"\"\n",
    "    \n",
    "    statistic = defaultdict(int, {\"letter\": 0, \"digit\": 0})\n",
    "    for c in sentence:\n",
    "        if c.isalpha():\n",
    "            statistic['letter'] += 1\n",
    "            statistic[c] += 1\n",
    "        elif c.isdigit():\n",
    "            statistic['digit'] += 1\n",
    "            statistic[c] += 1\n",
    "            \n",
    "    return statistic\n",
    "    "
   ]
  },
  {
   "cell_type": "code",
   "execution_count": 21,
   "metadata": {},
   "outputs": [
    {
     "data": {
      "text/plain": [
       "defaultdict(int,\n",
       "            {'letter': 33,\n",
       "             'digit': 11,\n",
       "             'T': 1,\n",
       "             'h': 2,\n",
       "             'i': 3,\n",
       "             's': 5,\n",
       "             'o': 2,\n",
       "             'm': 2,\n",
       "             'e': 5,\n",
       "             'l': 1,\n",
       "             'n': 4,\n",
       "             'g': 1,\n",
       "             't': 2,\n",
       "             'c': 1,\n",
       "             'w': 1,\n",
       "             'u': 1,\n",
       "             'b': 1,\n",
       "             'r': 1,\n",
       "             '1': 1,\n",
       "             '2': 1,\n",
       "             '3': 1,\n",
       "             '4': 2,\n",
       "             '5': 3,\n",
       "             '6': 3})"
      ]
     },
     "execution_count": 21,
     "metadata": {},
     "output_type": "execute_result"
    }
   ],
   "source": [
    "sentence_statistics(\"This is some long sentence with numbers 12 344556566\")"
   ]
  },
  {
   "cell_type": "markdown",
   "metadata": {},
   "source": [
    "### 8. Write a program that lists all subsets of the set {a, b, c, d}."
   ]
  },
  {
   "cell_type": "code",
   "execution_count": 9,
   "metadata": {},
   "outputs": [],
   "source": [
    "def subsets(numbers):\n",
    "    \"\"\"\n",
    "    Args:\n",
    "        numbers (set): Set of the numbers\n",
    "    \"\"\"\n",
    "    n = len(numbers)\n",
    "    pattern = 2**n - 1\n",
    "    while pattern >= 0:\n",
    "        print(\"{\", end=\" \")\n",
    "        bin_pattern = format(pattern, f\"0{n}b\")\n",
    "        for take, number in zip(bin_pattern, numbers):\n",
    "            if take == \"1\":\n",
    "                print(number, end=\", \")\n",
    "        print(\"}\")\n",
    "        pattern = pattern - 1"
   ]
  },
  {
   "cell_type": "code",
   "execution_count": 10,
   "metadata": {},
   "outputs": [
    {
     "name": "stdout",
     "output_type": "stream",
     "text": [
      "{ 1, 2, 3, 4, }\n",
      "{ 1, 2, 3, }\n",
      "{ 1, 2, 4, }\n",
      "{ 1, 2, }\n",
      "{ 1, 3, 4, }\n",
      "{ 1, 3, }\n",
      "{ 1, 4, }\n",
      "{ 1, }\n",
      "{ 2, 3, 4, }\n",
      "{ 2, 3, }\n",
      "{ 2, 4, }\n",
      "{ 2, }\n",
      "{ 3, 4, }\n",
      "{ 3, }\n",
      "{ 4, }\n",
      "{ }\n"
     ]
    }
   ],
   "source": [
    "subsets(set([1,2,3,4]))"
   ]
  },
  {
   "cell_type": "markdown",
   "metadata": {},
   "source": [
    "### 9. Write a program that returns the most frequent letter in a string."
   ]
  },
  {
   "cell_type": "code",
   "execution_count": 24,
   "metadata": {},
   "outputs": [],
   "source": [
    "def frequent_letter(word):\n",
    "    \"\"\"\n",
    "    Args:\n",
    "        word (string): string\n",
    "    Return:\n",
    "        (string): Most frequent letter in word\n",
    "    \"\"\"\n",
    "    c = defaultdict(int)\n",
    "    for i in word:\n",
    "        c[i.lower()] += 1\n",
    "    \n",
    "    return min(c, key=c.get)\n",
    "\n",
    "def frequent_letter2(word):\n",
    "    \"\"\"\n",
    "    Args:\n",
    "        word (string): string\n",
    "    Return:\n",
    "        (string): Most frequent letter in word\n",
    "    \"\"\"\n",
    "    c = defaultdict(int)\n",
    "    for i in word:\n",
    "        c[i] += 1\n",
    "        \n",
    "    minimal = min(c, key=c.get)\n",
    "    \n",
    "    \n",
    "    return list(filter(lambda x: c[x] == c[minimal], c))\n"
   ]
  },
  {
   "cell_type": "code",
   "execution_count": 25,
   "metadata": {},
   "outputs": [
    {
     "name": "stdout",
     "output_type": "stream",
     "text": [
      "m\n",
      "['m', 'l']\n"
     ]
    }
   ],
   "source": [
    "print(frequent_letter(\"mala\"))\n",
    "print(frequent_letter2(\"mala\"))\n"
   ]
  },
  {
   "cell_type": "markdown",
   "metadata": {},
   "source": [
    "### 10. Convert a number represented as a sequence of decimal digits to the binary representation."
   ]
  },
  {
   "cell_type": "code",
   "execution_count": 11,
   "metadata": {},
   "outputs": [],
   "source": [
    "def to_bin(number):\n",
    "    \"\"\"\n",
    "    Args:\n",
    "        number (int): Numbar that will be represented as binary\n",
    "    Return:\n",
    "        (string): Bionary representation of 'number'\n",
    "    \"\"\"\n",
    "    # return bin(number)\n",
    "    # return format(number, \"b\")\n",
    "    binary = \"\"\n",
    "    while number > 0:\n",
    "        if number % 2:\n",
    "            binary = \"1\" + binary\n",
    "        else:\n",
    "            binary = \"0\" + binary\n",
    "        number = number >> 1\n",
    "    return binary"
   ]
  },
  {
   "cell_type": "code",
   "execution_count": 12,
   "metadata": {},
   "outputs": [
    {
     "data": {
      "text/plain": [
       "'111'"
      ]
     },
     "execution_count": 12,
     "metadata": {},
     "output_type": "execute_result"
    }
   ],
   "source": [
    "to_bin(7)"
   ]
  },
  {
   "cell_type": "code",
   "execution_count": null,
   "metadata": {},
   "outputs": [],
   "source": []
  }
 ],
 "metadata": {
  "kernelspec": {
   "display_name": "Python 3",
   "language": "python",
   "name": "python3"
  },
  "language_info": {
   "codemirror_mode": {
    "name": "ipython",
    "version": 3
   },
   "file_extension": ".py",
   "mimetype": "text/x-python",
   "name": "python",
   "nbconvert_exporter": "python",
   "pygments_lexer": "ipython3",
   "version": "3.7.2"
  }
 },
 "nbformat": 4,
 "nbformat_minor": 2
}
