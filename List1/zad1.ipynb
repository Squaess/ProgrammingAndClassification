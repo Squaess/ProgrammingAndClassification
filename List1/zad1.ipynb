{
 "cells": [
  {
   "cell_type": "code",
   "execution_count": 5,
   "metadata": {},
   "outputs": [
    {
     "name": "stdout",
     "output_type": "stream",
     "text": [
      "Please insert number: asdkhg\n",
      "Value Error occured. Could parse asdkhg to int\n",
      "This will execute anyway!!\n"
     ]
    }
   ],
   "source": [
    "user_in = input('Please insert number: ')\n",
    "try:\n",
    "    int(user_in)\n",
    "except ValueError as e:\n",
    "    print(f\"Value Error occured. Could parse {user_in} to int\")\n",
    "else:\n",
    "    print(\"We are good\")\n",
    "finally:\n",
    "    print(\"This will execute anyway!!\")"
   ]
  }
 ],
 "metadata": {
  "kernelspec": {
   "display_name": "Python 3",
   "language": "python",
   "name": "python3"
  },
  "language_info": {
   "codemirror_mode": {
    "name": "ipython",
    "version": 3
   },
   "file_extension": ".py",
   "mimetype": "text/x-python",
   "name": "python",
   "nbconvert_exporter": "python",
   "pygments_lexer": "ipython3",
   "version": "3.7.2"
  }
 },
 "nbformat": 4,
 "nbformat_minor": 2
}
